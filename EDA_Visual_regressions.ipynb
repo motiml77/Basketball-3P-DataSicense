{
 "cells": [
  {
   "cell_type": "code",
   "execution_count": 1,
   "metadata": {},
   "outputs": [],
   "source": [
    "import requests\n",
    "from bs4 import BeautifulSoup\n",
    "import pandas as pd\n",
    "\n",
    "import numpy as np\n",
    "import pandas as pd\n",
    "from sklearn import linear_model\n",
    "\n",
    "\n",
    "#and visualization setup\n",
    "import matplotlib.pyplot as plt\n",
    "%matplotlib inline  \n",
    "plt.rcParams['figure.figsize'] = (10, 6)\n",
    "\n",
    "from mpl_toolkits.mplot3d import Axes3D\n",
    "from matplotlib import cm"
   ]
  },
  {
   "cell_type": "code",
   "execution_count": 2,
   "metadata": {},
   "outputs": [],
   "source": [
    "urls_array=[\n",
    "            \"https://www.basketball-reference.com/leagues/NBA_1980_totals.html\"\n",
    "            ,\"https://www.basketball-reference.com/leagues/NBA_1983_totals.html\"\n",
    "            ,\"https://www.basketball-reference.com/leagues/NBA_1985_totals.html\"\n",
    "           ,\"https://www.basketball-reference.com/leagues/NBA_1988_totals.html\"\n",
    "            ,\"https://www.basketball-reference.com/leagues/NBA_1990_totals.html\"\n",
    "            ,\"https://www.basketball-reference.com/leagues/NBA_1992_totals.html\"\n",
    "           ,\"https://www.basketball-reference.com/leagues/NBA_1995_totals.html\"\n",
    "            ,\"https://www.basketball-reference.com/leagues/NBA_1997_totals.html\"\n",
    "           ,\"https://www.basketball-reference.com/leagues/NBA_1999_totals.html\"\n",
    "            ,\"https://www.basketball-reference.com/leagues/NBA_2001_totals.html\"\n",
    "          ,\"https://www.basketball-reference.com/leagues/NBA_2003_totals.html\"\n",
    "            ,\"https://www.basketball-reference.com/leagues/NBA_2005_totals.html\"\n",
    "            ,\"https://www.basketball-reference.com/leagues/NBA_2008_totals.html\"\n",
    "            ,\"https://www.basketball-reference.com/leagues/NBA_2010_totals.html\"\n",
    "            ,\"https://www.basketball-reference.com/leagues/NBA_2012_totals.html\"\n",
    "            ,\"https://www.basketball-reference.com/leagues/NBA_2015_totals.html\"\n",
    "            ,\"https://www.basketball-reference.com/leagues/NBA_2017_totals.html\"\n",
    "            ,\"https://www.basketball-reference.com/leagues/NBA_2019_totals.html\"\n",
    "            ,\"https://www.basketball-reference.com/leagues/NBA_2021_totals.html\"\n",
    "           ]\n",
    "\n",
    "urls_2_array=[\n",
    "               \"https://www.basketball-reference.com/international/fiba-world-cup/2010_totals.html\"\n",
    "                ,\"https://www.basketball-reference.com/international/fiba-world-cup/2014_totals.html\"\n",
    "                ,\"https://www.basketball-reference.com/international/fiba-world-cup/2019_totals.html\"\n",
    "                ,\"https://www.basketball-reference.com/international/cba-china/2012_totals.html\"\n",
    "                ,\"https://www.basketball-reference.com/international/cba-china/2014_totals.html\"\n",
    "                ,\"https://www.basketball-reference.com/international/cba-china/2016_totals.html\"\n",
    "                ,\"https://www.basketball-reference.com/international/cba-china/2018_totals.html\"\n",
    "                ,\"https://www.basketball-reference.com/international/cba-china/2020_totals.html\"\n",
    "                ,\"https://www.basketball-reference.com/international/eurocup/2003_totals.html\"\n",
    "                ,\"https://www.basketball-reference.com/international/eurocup/2005_totals.html\"\n",
    "                ,\"https://www.basketball-reference.com/international/eurocup/2007_totals.html\"\n",
    "                ,\"https://www.basketball-reference.com/international/eurocup/2009_totals.html\"\n",
    "                ,\"https://www.basketball-reference.com/international/eurocup/2011_totals.html\"\n",
    "                ,\"https://www.basketball-reference.com/international/eurocup/2013_totals.html\"\n",
    "                ,\"https://www.basketball-reference.com/international/eurocup/2015_totals.html\"\n",
    "                ,\"https://www.basketball-reference.com/international/eurocup/2017_totals.html\"\n",
    "                ,\"https://www.basketball-reference.com/international/eurocup/2019_totals.html\"\n",
    "    \n",
    "]\n",
    "\n",
    "\n",
    "players=list()\n",
    "#age_s=list()\n",
    "p3_s=list()\n",
    "p3a_s=list()\n",
    "p3p_s=list()\n",
    "p2_s=list()\n",
    "p2a_s=list()\n",
    "p2p_s=list()\n",
    "ft_s=list()\n",
    "fta_s=list()\n",
    "ftp_s=list()\n",
    "orb_s=list()\n",
    "drb_s=list()\n",
    "ast_s=list()"
   ]
  },
  {
   "cell_type": "code",
   "execution_count": 3,
   "metadata": {},
   "outputs": [],
   "source": [
    "for url in urls_array:\n",
    "    html = requests.get(url)\n",
    "    soup = BeautifulSoup(html.content, \"html.parser\")\n",
    "    table = soup.find('table')\n",
    "    table_rows = table.find_all('tr')\n",
    "    for tr in table_rows:\n",
    "        td = tr('td')\n",
    "        row = [tr.text.strip() for tr in td if tr.text.strip()]\n",
    "        if row:\n",
    "            players.append(row[0])\n",
    "            #age_s.append(row[2])\n",
    "            p3_s.append(row[10])\n",
    "            p3a_s.append(row[11])        \n",
    "            p3p_s.append(row[12])\n",
    "            p2_s.append(row[13])\n",
    "            p2a_s.append(row[14])\n",
    "            p2p_s.append(row[15])\n",
    "            ft_s.append(row[17])\n",
    "            fta_s.append(row[18])\n",
    "            ftp_s.append(row[19])\n",
    "            orb_s.append(row[20])\n",
    "            drb_s.append(row[21])\n",
    "            ast_s.append(row[23])\n",
    "\n",
    "\n",
    "    for i in range(0,len(p2p_s)):\n",
    "        if (str(p2p_s[i])[0]!=\".\"):\n",
    "            p2p_s[i]=999\n",
    "            \n",
    "    for i in range(0,len(p3p_s)):\n",
    "        if (str(p3p_s[i])[0]!=\".\"):\n",
    "            p3p_s[i]=999"
   ]
  },
  {
   "cell_type": "code",
   "execution_count": 4,
   "metadata": {
    "scrolled": false
   },
   "outputs": [],
   "source": [
    "for url2 in urls_2_array:\n",
    "    html2 = requests.get(url2)\n",
    "    soup2 = BeautifulSoup(html2.content, \"html.parser\")\n",
    "    table2 = soup2.find('table')\n",
    "    table_rows2 = table2.find_all('tr')\n",
    "    for tr in table_rows2:\n",
    "        \n",
    "        th2=tr('th')\n",
    "        row2 = [tr.text.strip() for tr in th2 if tr.text.strip()]\n",
    "        if row2:\n",
    "            players.append(row2[0])\n",
    "            \n",
    "        td2 = tr('td')\n",
    "        row = [tr.text.strip() for tr in td2 if tr.text.strip()]\n",
    "        if row:\n",
    "            p3_s.append(row[6])\n",
    "            p3a_s.append(row[7])        \n",
    "            p3p_s.append(row[8])\n",
    "            p2_s.append(row[9])\n",
    "            p2a_s.append(row[10])\n",
    "            p2p_s.append(row[11])\n",
    "            ft_s.append(row[13])\n",
    "            fta_s.append(row[14])\n",
    "            ftp_s.append(row[15])\n",
    "            orb_s.append(row[16])\n",
    "            drb_s.append(row[17])\n",
    "            ast_s.append(row[19])\n",
    "\n",
    "    players.remove('Player')\n",
    "            \n"
   ]
  },
  {
   "cell_type": "code",
   "execution_count": 5,
   "metadata": {},
   "outputs": [],
   "source": [
    "for i in range(0,len(p2p_s)):\n",
    "    p3_s[i]=(int)(p3_s[i])\n",
    "    \n",
    "    if p3p_s[i]!=999:\n",
    "        if (p3p_s[i][0]==\".\"):\n",
    "            p3p_s[i]=(float)(p3p_s[i])\n",
    "            p3p_s[i]= p3p_s[i]*100\n",
    "            p3p_s[i]= round (p3p_s[i],2)\n",
    "       \n",
    "    if p2p_s[i]!=999:\n",
    "        if (p2p_s[i][0]==\".\"):\n",
    "            p2p_s[i]=(float)(p2p_s[i])\n",
    "            p2p_s[i]= p2p_s[i]*100\n",
    "            p2p_s[i]= round (p2p_s[i],2)\n",
    "    #print((p3p_s[i]))\n",
    "\n",
    "  "
   ]
  },
  {
   "cell_type": "code",
   "execution_count": 6,
   "metadata": {},
   "outputs": [
    {
     "data": {
      "text/html": [
       "<div>\n",
       "<style scoped>\n",
       "    .dataframe tbody tr th:only-of-type {\n",
       "        vertical-align: middle;\n",
       "    }\n",
       "\n",
       "    .dataframe tbody tr th {\n",
       "        vertical-align: top;\n",
       "    }\n",
       "\n",
       "    .dataframe thead th {\n",
       "        text-align: right;\n",
       "    }\n",
       "</style>\n",
       "<table border=\"1\" class=\"dataframe\">\n",
       "  <thead>\n",
       "    <tr style=\"text-align: right;\">\n",
       "      <th></th>\n",
       "      <th>Player Name</th>\n",
       "      <th>3P</th>\n",
       "      <th>3PA</th>\n",
       "      <th>3P%</th>\n",
       "      <th>2P</th>\n",
       "      <th>2PA</th>\n",
       "      <th>2P%</th>\n",
       "      <th>FT</th>\n",
       "      <th>FTA</th>\n",
       "      <th>FT%</th>\n",
       "      <th>ORB</th>\n",
       "      <th>DRB</th>\n",
       "      <th>AST</th>\n",
       "    </tr>\n",
       "  </thead>\n",
       "  <tbody>\n",
       "    <tr>\n",
       "      <th>3</th>\n",
       "      <td>Tiny Archibald*</td>\n",
       "      <td>4</td>\n",
       "      <td>18</td>\n",
       "      <td>22.2</td>\n",
       "      <td>379</td>\n",
       "      <td>776</td>\n",
       "      <td>48.8</td>\n",
       "      <td>361</td>\n",
       "      <td>435</td>\n",
       "      <td>.830</td>\n",
       "      <td>59</td>\n",
       "      <td>138</td>\n",
       "      <td>671</td>\n",
       "    </tr>\n",
       "    <tr>\n",
       "      <th>20</th>\n",
       "      <td>Henry Bibby</td>\n",
       "      <td>11</td>\n",
       "      <td>52</td>\n",
       "      <td>21.2</td>\n",
       "      <td>240</td>\n",
       "      <td>574</td>\n",
       "      <td>41.8</td>\n",
       "      <td>226</td>\n",
       "      <td>286</td>\n",
       "      <td>.790</td>\n",
       "      <td>65</td>\n",
       "      <td>143</td>\n",
       "      <td>307</td>\n",
       "    </tr>\n",
       "    <tr>\n",
       "      <th>21</th>\n",
       "      <td>Larry Bird*</td>\n",
       "      <td>58</td>\n",
       "      <td>143</td>\n",
       "      <td>40.6</td>\n",
       "      <td>635</td>\n",
       "      <td>1320</td>\n",
       "      <td>48.1</td>\n",
       "      <td>301</td>\n",
       "      <td>360</td>\n",
       "      <td>.836</td>\n",
       "      <td>216</td>\n",
       "      <td>636</td>\n",
       "      <td>370</td>\n",
       "    </tr>\n",
       "    <tr>\n",
       "      <th>54</th>\n",
       "      <td>M.L. Carr</td>\n",
       "      <td>12</td>\n",
       "      <td>41</td>\n",
       "      <td>29.3</td>\n",
       "      <td>350</td>\n",
       "      <td>722</td>\n",
       "      <td>48.5</td>\n",
       "      <td>178</td>\n",
       "      <td>241</td>\n",
       "      <td>.739</td>\n",
       "      <td>106</td>\n",
       "      <td>224</td>\n",
       "      <td>156</td>\n",
       "    </tr>\n",
       "    <tr>\n",
       "      <th>60</th>\n",
       "      <td>Maurice Cheeks*</td>\n",
       "      <td>4</td>\n",
       "      <td>9</td>\n",
       "      <td>44.4</td>\n",
       "      <td>353</td>\n",
       "      <td>652</td>\n",
       "      <td>54.1</td>\n",
       "      <td>180</td>\n",
       "      <td>231</td>\n",
       "      <td>.779</td>\n",
       "      <td>75</td>\n",
       "      <td>199</td>\n",
       "      <td>556</td>\n",
       "    </tr>\n",
       "    <tr>\n",
       "      <th>...</th>\n",
       "      <td>...</td>\n",
       "      <td>...</td>\n",
       "      <td>...</td>\n",
       "      <td>...</td>\n",
       "      <td>...</td>\n",
       "      <td>...</td>\n",
       "      <td>...</td>\n",
       "      <td>...</td>\n",
       "      <td>...</td>\n",
       "      <td>...</td>\n",
       "      <td>...</td>\n",
       "      <td>...</td>\n",
       "      <td>...</td>\n",
       "    </tr>\n",
       "    <tr>\n",
       "      <th>16117</th>\n",
       "      <td>Trevor Lacey</td>\n",
       "      <td>17</td>\n",
       "      <td>36</td>\n",
       "      <td>47.2</td>\n",
       "      <td>20</td>\n",
       "      <td>42</td>\n",
       "      <td>47.6</td>\n",
       "      <td>7</td>\n",
       "      <td>10</td>\n",
       "      <td>.700</td>\n",
       "      <td>2</td>\n",
       "      <td>33</td>\n",
       "      <td>40</td>\n",
       "    </tr>\n",
       "    <tr>\n",
       "      <th>16118</th>\n",
       "      <td>Tyler Larson</td>\n",
       "      <td>6</td>\n",
       "      <td>18</td>\n",
       "      <td>33.3</td>\n",
       "      <td>7</td>\n",
       "      <td>12</td>\n",
       "      <td>58.3</td>\n",
       "      <td>10</td>\n",
       "      <td>13</td>\n",
       "      <td>.769</td>\n",
       "      <td>2</td>\n",
       "      <td>11</td>\n",
       "      <td>10</td>\n",
       "    </tr>\n",
       "    <tr>\n",
       "      <th>16123</th>\n",
       "      <td>Victor Rudd</td>\n",
       "      <td>13</td>\n",
       "      <td>36</td>\n",
       "      <td>36.1</td>\n",
       "      <td>22</td>\n",
       "      <td>51</td>\n",
       "      <td>43.1</td>\n",
       "      <td>10</td>\n",
       "      <td>14</td>\n",
       "      <td>.714</td>\n",
       "      <td>7</td>\n",
       "      <td>23</td>\n",
       "      <td>8</td>\n",
       "    </tr>\n",
       "    <tr>\n",
       "      <th>16130</th>\n",
       "      <td>Vladislav Trushkin</td>\n",
       "      <td>16</td>\n",
       "      <td>39</td>\n",
       "      <td>41.0</td>\n",
       "      <td>30</td>\n",
       "      <td>54</td>\n",
       "      <td>55.6</td>\n",
       "      <td>7</td>\n",
       "      <td>7</td>\n",
       "      <td>1.000</td>\n",
       "      <td>15</td>\n",
       "      <td>24</td>\n",
       "      <td>11</td>\n",
       "    </tr>\n",
       "    <tr>\n",
       "      <th>16133</th>\n",
       "      <td>William Howard</td>\n",
       "      <td>30</td>\n",
       "      <td>66</td>\n",
       "      <td>45.5</td>\n",
       "      <td>28</td>\n",
       "      <td>50</td>\n",
       "      <td>56.0</td>\n",
       "      <td>24</td>\n",
       "      <td>30</td>\n",
       "      <td>.800</td>\n",
       "      <td>13</td>\n",
       "      <td>37</td>\n",
       "      <td>35</td>\n",
       "    </tr>\n",
       "  </tbody>\n",
       "</table>\n",
       "<p>2720 rows × 13 columns</p>\n",
       "</div>"
      ],
      "text/plain": [
       "              Player Name  3P  3PA   3P%   2P   2PA   2P%   FT  FTA    FT%  \\\n",
       "3         Tiny Archibald*   4   18  22.2  379   776  48.8  361  435   .830   \n",
       "20            Henry Bibby  11   52  21.2  240   574  41.8  226  286   .790   \n",
       "21            Larry Bird*  58  143  40.6  635  1320  48.1  301  360   .836   \n",
       "54              M.L. Carr  12   41  29.3  350   722  48.5  178  241   .739   \n",
       "60        Maurice Cheeks*   4    9  44.4  353   652  54.1  180  231   .779   \n",
       "...                   ...  ..  ...   ...  ...   ...   ...  ...  ...    ...   \n",
       "16117        Trevor Lacey  17   36  47.2   20    42  47.6    7   10   .700   \n",
       "16118        Tyler Larson   6   18  33.3    7    12  58.3   10   13   .769   \n",
       "16123         Victor Rudd  13   36  36.1   22    51  43.1   10   14   .714   \n",
       "16130  Vladislav Trushkin  16   39  41.0   30    54  55.6    7    7  1.000   \n",
       "16133      William Howard  30   66  45.5   28    50  56.0   24   30   .800   \n",
       "\n",
       "       ORB  DRB  AST  \n",
       "3       59  138  671  \n",
       "20      65  143  307  \n",
       "21     216  636  370  \n",
       "54     106  224  156  \n",
       "60      75  199  556  \n",
       "...    ...  ...  ...  \n",
       "16117    2   33   40  \n",
       "16118    2   11   10  \n",
       "16123    7   23    8  \n",
       "16130   15   24   11  \n",
       "16133   13   37   35  \n",
       "\n",
       "[2720 rows x 13 columns]"
      ]
     },
     "execution_count": 6,
     "metadata": {},
     "output_type": "execute_result"
    }
   ],
   "source": [
    "df = pd.DataFrame({\"Player Name\":players,\"3P\":p3_s,\"3PA\":p3a_s,\"3P%\":p3p_s,\"2P\":p2_s,\"2PA\":p2a_s,\"2P%\":p2p_s,\"FT\":ft_s,\"FTA\":fta_s,\"FT%\":ftp_s,\"ORB\":orb_s,\"DRB\":drb_s,\"AST\":ast_s})\n",
    "df.drop_duplicates(subset='Player Name', keep='first', inplace=True)\n",
    "\n",
    "df = df[df[\"2P%\"]!= 999]\n",
    "df.shape\n",
    "df = df[df[\"3P%\"]!=999]\n",
    "df.shape  \n",
    "\n",
    "df = df[df[\"3P\"]>3]\n",
    "df.shape \n",
    "\n",
    "df"
   ]
  },
  {
   "cell_type": "code",
   "execution_count": 8,
   "metadata": {},
   "outputs": [
    {
     "data": {
      "text/html": [
       "<div>\n",
       "<style scoped>\n",
       "    .dataframe tbody tr th:only-of-type {\n",
       "        vertical-align: middle;\n",
       "    }\n",
       "\n",
       "    .dataframe tbody tr th {\n",
       "        vertical-align: top;\n",
       "    }\n",
       "\n",
       "    .dataframe thead th {\n",
       "        text-align: right;\n",
       "    }\n",
       "</style>\n",
       "<table border=\"1\" class=\"dataframe\">\n",
       "  <thead>\n",
       "    <tr style=\"text-align: right;\">\n",
       "      <th></th>\n",
       "      <th>3P</th>\n",
       "      <th>3PA</th>\n",
       "      <th>3P%</th>\n",
       "      <th>2P</th>\n",
       "      <th>2PA</th>\n",
       "      <th>2P%</th>\n",
       "      <th>FT</th>\n",
       "      <th>FTA</th>\n",
       "      <th>FT%</th>\n",
       "      <th>ORB</th>\n",
       "      <th>DRB</th>\n",
       "      <th>AST</th>\n",
       "    </tr>\n",
       "  </thead>\n",
       "  <tbody>\n",
       "    <tr>\n",
       "      <th>3</th>\n",
       "      <td>4</td>\n",
       "      <td>18</td>\n",
       "      <td>22.2</td>\n",
       "      <td>379</td>\n",
       "      <td>776</td>\n",
       "      <td>48.8</td>\n",
       "      <td>361</td>\n",
       "      <td>435</td>\n",
       "      <td>.830</td>\n",
       "      <td>59</td>\n",
       "      <td>138</td>\n",
       "      <td>671</td>\n",
       "    </tr>\n",
       "    <tr>\n",
       "      <th>20</th>\n",
       "      <td>11</td>\n",
       "      <td>52</td>\n",
       "      <td>21.2</td>\n",
       "      <td>240</td>\n",
       "      <td>574</td>\n",
       "      <td>41.8</td>\n",
       "      <td>226</td>\n",
       "      <td>286</td>\n",
       "      <td>.790</td>\n",
       "      <td>65</td>\n",
       "      <td>143</td>\n",
       "      <td>307</td>\n",
       "    </tr>\n",
       "    <tr>\n",
       "      <th>21</th>\n",
       "      <td>58</td>\n",
       "      <td>143</td>\n",
       "      <td>40.6</td>\n",
       "      <td>635</td>\n",
       "      <td>1320</td>\n",
       "      <td>48.1</td>\n",
       "      <td>301</td>\n",
       "      <td>360</td>\n",
       "      <td>.836</td>\n",
       "      <td>216</td>\n",
       "      <td>636</td>\n",
       "      <td>370</td>\n",
       "    </tr>\n",
       "    <tr>\n",
       "      <th>54</th>\n",
       "      <td>12</td>\n",
       "      <td>41</td>\n",
       "      <td>29.3</td>\n",
       "      <td>350</td>\n",
       "      <td>722</td>\n",
       "      <td>48.5</td>\n",
       "      <td>178</td>\n",
       "      <td>241</td>\n",
       "      <td>.739</td>\n",
       "      <td>106</td>\n",
       "      <td>224</td>\n",
       "      <td>156</td>\n",
       "    </tr>\n",
       "    <tr>\n",
       "      <th>60</th>\n",
       "      <td>4</td>\n",
       "      <td>9</td>\n",
       "      <td>44.4</td>\n",
       "      <td>353</td>\n",
       "      <td>652</td>\n",
       "      <td>54.1</td>\n",
       "      <td>180</td>\n",
       "      <td>231</td>\n",
       "      <td>.779</td>\n",
       "      <td>75</td>\n",
       "      <td>199</td>\n",
       "      <td>556</td>\n",
       "    </tr>\n",
       "    <tr>\n",
       "      <th>...</th>\n",
       "      <td>...</td>\n",
       "      <td>...</td>\n",
       "      <td>...</td>\n",
       "      <td>...</td>\n",
       "      <td>...</td>\n",
       "      <td>...</td>\n",
       "      <td>...</td>\n",
       "      <td>...</td>\n",
       "      <td>...</td>\n",
       "      <td>...</td>\n",
       "      <td>...</td>\n",
       "      <td>...</td>\n",
       "    </tr>\n",
       "    <tr>\n",
       "      <th>16117</th>\n",
       "      <td>17</td>\n",
       "      <td>36</td>\n",
       "      <td>47.2</td>\n",
       "      <td>20</td>\n",
       "      <td>42</td>\n",
       "      <td>47.6</td>\n",
       "      <td>7</td>\n",
       "      <td>10</td>\n",
       "      <td>.700</td>\n",
       "      <td>2</td>\n",
       "      <td>33</td>\n",
       "      <td>40</td>\n",
       "    </tr>\n",
       "    <tr>\n",
       "      <th>16118</th>\n",
       "      <td>6</td>\n",
       "      <td>18</td>\n",
       "      <td>33.3</td>\n",
       "      <td>7</td>\n",
       "      <td>12</td>\n",
       "      <td>58.3</td>\n",
       "      <td>10</td>\n",
       "      <td>13</td>\n",
       "      <td>.769</td>\n",
       "      <td>2</td>\n",
       "      <td>11</td>\n",
       "      <td>10</td>\n",
       "    </tr>\n",
       "    <tr>\n",
       "      <th>16123</th>\n",
       "      <td>13</td>\n",
       "      <td>36</td>\n",
       "      <td>36.1</td>\n",
       "      <td>22</td>\n",
       "      <td>51</td>\n",
       "      <td>43.1</td>\n",
       "      <td>10</td>\n",
       "      <td>14</td>\n",
       "      <td>.714</td>\n",
       "      <td>7</td>\n",
       "      <td>23</td>\n",
       "      <td>8</td>\n",
       "    </tr>\n",
       "    <tr>\n",
       "      <th>16130</th>\n",
       "      <td>16</td>\n",
       "      <td>39</td>\n",
       "      <td>41.0</td>\n",
       "      <td>30</td>\n",
       "      <td>54</td>\n",
       "      <td>55.6</td>\n",
       "      <td>7</td>\n",
       "      <td>7</td>\n",
       "      <td>1.000</td>\n",
       "      <td>15</td>\n",
       "      <td>24</td>\n",
       "      <td>11</td>\n",
       "    </tr>\n",
       "    <tr>\n",
       "      <th>16133</th>\n",
       "      <td>30</td>\n",
       "      <td>66</td>\n",
       "      <td>45.5</td>\n",
       "      <td>28</td>\n",
       "      <td>50</td>\n",
       "      <td>56.0</td>\n",
       "      <td>24</td>\n",
       "      <td>30</td>\n",
       "      <td>.800</td>\n",
       "      <td>13</td>\n",
       "      <td>37</td>\n",
       "      <td>35</td>\n",
       "    </tr>\n",
       "  </tbody>\n",
       "</table>\n",
       "<p>2720 rows × 12 columns</p>\n",
       "</div>"
      ],
      "text/plain": [
       "       3P  3PA   3P%   2P   2PA   2P%   FT  FTA    FT%  ORB  DRB  AST\n",
       "3       4   18  22.2  379   776  48.8  361  435   .830   59  138  671\n",
       "20     11   52  21.2  240   574  41.8  226  286   .790   65  143  307\n",
       "21     58  143  40.6  635  1320  48.1  301  360   .836  216  636  370\n",
       "54     12   41  29.3  350   722  48.5  178  241   .739  106  224  156\n",
       "60      4    9  44.4  353   652  54.1  180  231   .779   75  199  556\n",
       "...    ..  ...   ...  ...   ...   ...  ...  ...    ...  ...  ...  ...\n",
       "16117  17   36  47.2   20    42  47.6    7   10   .700    2   33   40\n",
       "16118   6   18  33.3    7    12  58.3   10   13   .769    2   11   10\n",
       "16123  13   36  36.1   22    51  43.1   10   14   .714    7   23    8\n",
       "16130  16   39  41.0   30    54  55.6    7    7  1.000   15   24   11\n",
       "16133  30   66  45.5   28    50  56.0   24   30   .800   13   37   35\n",
       "\n",
       "[2720 rows x 12 columns]"
      ]
     },
     "execution_count": 8,
     "metadata": {},
     "output_type": "execute_result"
    }
   ],
   "source": [
    "df_linear=df.drop(['Player Name'], axis=1)\n",
    "df_linear"
   ]
  },
  {
   "cell_type": "code",
   "execution_count": 9,
   "metadata": {},
   "outputs": [
    {
     "data": {
      "text/html": [
       "<div>\n",
       "<style scoped>\n",
       "    .dataframe tbody tr th:only-of-type {\n",
       "        vertical-align: middle;\n",
       "    }\n",
       "\n",
       "    .dataframe tbody tr th {\n",
       "        vertical-align: top;\n",
       "    }\n",
       "\n",
       "    .dataframe thead th {\n",
       "        text-align: right;\n",
       "    }\n",
       "</style>\n",
       "<table border=\"1\" class=\"dataframe\">\n",
       "  <thead>\n",
       "    <tr style=\"text-align: right;\">\n",
       "      <th></th>\n",
       "      <th>3P</th>\n",
       "    </tr>\n",
       "  </thead>\n",
       "  <tbody>\n",
       "    <tr>\n",
       "      <th>count</th>\n",
       "      <td>2720.000000</td>\n",
       "    </tr>\n",
       "    <tr>\n",
       "      <th>mean</th>\n",
       "      <td>24.401838</td>\n",
       "    </tr>\n",
       "    <tr>\n",
       "      <th>std</th>\n",
       "      <td>29.786168</td>\n",
       "    </tr>\n",
       "    <tr>\n",
       "      <th>min</th>\n",
       "      <td>4.000000</td>\n",
       "    </tr>\n",
       "    <tr>\n",
       "      <th>25%</th>\n",
       "      <td>7.000000</td>\n",
       "    </tr>\n",
       "    <tr>\n",
       "      <th>50%</th>\n",
       "      <td>13.000000</td>\n",
       "    </tr>\n",
       "    <tr>\n",
       "      <th>75%</th>\n",
       "      <td>28.000000</td>\n",
       "    </tr>\n",
       "    <tr>\n",
       "      <th>max</th>\n",
       "      <td>226.000000</td>\n",
       "    </tr>\n",
       "  </tbody>\n",
       "</table>\n",
       "</div>"
      ],
      "text/plain": [
       "                3P\n",
       "count  2720.000000\n",
       "mean     24.401838\n",
       "std      29.786168\n",
       "min       4.000000\n",
       "25%       7.000000\n",
       "50%      13.000000\n",
       "75%      28.000000\n",
       "max     226.000000"
      ]
     },
     "execution_count": 9,
     "metadata": {},
     "output_type": "execute_result"
    }
   ],
   "source": [
    "df_linear.describe()"
   ]
  },
  {
   "cell_type": "code",
   "execution_count": 10,
   "metadata": {},
   "outputs": [
    {
     "data": {
      "image/png": "[encoded data removed]",
      "text/plain": [
       "<Figure size 720x432 with 1 Axes>"
      ]
     },
     "metadata": {
      "needs_background": "light"
     },
     "output_type": "display_data"
    }
   ],
   "source": [
    "plt.scatter(x=df_linear['2P%'],y=df_linear['3P%'],c='r',marker='s',label='2P')\n",
    "\n",
    "plt.legend(numpoints=1,loc=4)\n",
    "plt.xlabel('percent of 2P')\n",
    "plt.ylabel('percent of 3P')\n",
    "plt.show()"
   ]
  },
  {
   "cell_type": "code",
   "execution_count": 10,
   "metadata": {},
   "outputs": [],
   "source": [
    "#m=linear_model.LinearRegression().fit(df.iloc[:,0:1],df.iloc[:,3:])"
   ]
  },
  {
   "cell_type": "code",
   "execution_count": 11,
   "metadata": {},
   "outputs": [],
   "source": [
    "#plt.scatter(x=df['2P%'],y=df['3P%'],c='k',marker='*',label='Digital')\n",
    "#plt.plot(df['2P%'],m.predict(df.iloc[:,0:1]),'k',color='blue',linewidth=3)\n",
    "\n",
    "#plt.xlabel('Digital budget (Thousands of dollars)')\n",
    "#plt.ylabel('Sales (Thousand units of product)')\n",
    "#plt.show()"
   ]
  },
  {
   "cell_type": "code",
   "execution_count": 11,
   "metadata": {},
   "outputs": [
    {
     "data": {
      "image/png": "[encoded data removed]",
      "text/plain": [
       "<Figure size 720x432 with 1 Axes>"
      ]
     },
     "metadata": {
      "needs_background": "light"
     },
     "output_type": "display_data"
    }
   ],
   "source": [
    "plt.scatter(x=df_linear['DRB'],y=df_linear['3P%'],c='y',marker='s',label='DRB')\n",
    "\n",
    "plt.legend(numpoints=1,loc=4)\n",
    "plt.xlabel('DRB exam')\n",
    "plt.ylabel('percent of 3P')\n",
    "plt.show()"
   ]
  },
  {
   "cell_type": "code",
   "execution_count": 12,
   "metadata": {},
   "outputs": [
    {
     "data": {
      "image/png": "[encoded data removed]",
      "text/plain": [
       "<Figure size 720x432 with 1 Axes>"
      ]
     },
     "metadata": {
      "needs_background": "light"
     },
     "output_type": "display_data"
    }
   ],
   "source": [
    "plt.scatter(x=df_linear['ORB'],y=df_linear['3P%'],c='b',marker='s',label='ORB')\n",
    "\n",
    "plt.legend(numpoints=1,loc=4)\n",
    "plt.xlabel('ORB exam')\n",
    "plt.ylabel('percent of 3P')\n",
    "plt.show()"
   ]
  },
  {
   "cell_type": "code",
   "execution_count": 13,
   "metadata": {},
   "outputs": [],
   "source": [
    "success=list()\n",
    "count_succ=0\n",
    "count_unsucc=0\n",
    "for i in range(0,len(p3p_s)):\n",
    "    if(p3p_s[i]!=999):\n",
    "        if((float)(p3p_s[i])>36):\n",
    "            success.append(1)\n",
    "            count_succ=count_succ+1\n",
    "        else:\n",
    "            success.append(0)\n",
    "            count_unsucc=count_unsucc+1\n",
    "    else: success.append(999)\n",
    "        \n",
    "for i in range(0,len(p2p_s)):\n",
    "    p2p_s[i]=(float)(p2p_s[i])"
   ]
  },
  {
   "cell_type": "code",
   "execution_count": 35,
   "metadata": {},
   "outputs": [],
   "source": [
    "df_success = pd.DataFrame({\"Success\":success,\"3P\":p3_s,\"3PA\":p3a_s,\"3P%\":p3p_s,\"2P\":p2_s,\"2PA\":p2a_s,\"2P%\":p2p_s,\"FT\":ft_s,\"FTA\":fta_s,\"FT%\":ftp_s,\"ORB\":orb_s,\"DRB\":drb_s,\"AST\":ast_s})\n",
    "df_success = df_success[df_success[\"Success\"]!=999]"
   ]
  },
  {
   "cell_type": "code",
   "execution_count": 36,
   "metadata": {},
   "outputs": [
    {
     "data": {
      "text/html": [
       "<div>\n",
       "<style scoped>\n",
       "    .dataframe tbody tr th:only-of-type {\n",
       "        vertical-align: middle;\n",
       "    }\n",
       "\n",
       "    .dataframe tbody tr th {\n",
       "        vertical-align: top;\n",
       "    }\n",
       "\n",
       "    .dataframe thead th {\n",
       "        text-align: right;\n",
       "    }\n",
       "</style>\n",
       "<table border=\"1\" class=\"dataframe\">\n",
       "  <thead>\n",
       "    <tr style=\"text-align: right;\">\n",
       "      <th></th>\n",
       "      <th>Success</th>\n",
       "      <th>3P</th>\n",
       "      <th>2P%</th>\n",
       "    </tr>\n",
       "  </thead>\n",
       "  <tbody>\n",
       "    <tr>\n",
       "      <th>count</th>\n",
       "      <td>14184.000000</td>\n",
       "      <td>14184.000000</td>\n",
       "      <td>14184.000000</td>\n",
       "    </tr>\n",
       "    <tr>\n",
       "      <th>mean</th>\n",
       "      <td>0.299492</td>\n",
       "      <td>22.243091</td>\n",
       "      <td>47.188517</td>\n",
       "    </tr>\n",
       "    <tr>\n",
       "      <th>std</th>\n",
       "      <td>0.458052</td>\n",
       "      <td>36.948180</td>\n",
       "      <td>36.681152</td>\n",
       "    </tr>\n",
       "    <tr>\n",
       "      <th>min</th>\n",
       "      <td>0.000000</td>\n",
       "      <td>0.000000</td>\n",
       "      <td>0.000000</td>\n",
       "    </tr>\n",
       "    <tr>\n",
       "      <th>25%</th>\n",
       "      <td>0.000000</td>\n",
       "      <td>1.000000</td>\n",
       "      <td>42.100000</td>\n",
       "    </tr>\n",
       "    <tr>\n",
       "      <th>50%</th>\n",
       "      <td>0.000000</td>\n",
       "      <td>6.000000</td>\n",
       "      <td>47.800000</td>\n",
       "    </tr>\n",
       "    <tr>\n",
       "      <th>75%</th>\n",
       "      <td>1.000000</td>\n",
       "      <td>25.000000</td>\n",
       "      <td>53.100000</td>\n",
       "    </tr>\n",
       "    <tr>\n",
       "      <th>max</th>\n",
       "      <td>1.000000</td>\n",
       "      <td>378.000000</td>\n",
       "      <td>999.000000</td>\n",
       "    </tr>\n",
       "  </tbody>\n",
       "</table>\n",
       "</div>"
      ],
      "text/plain": [
       "            Success            3P           2P%\n",
       "count  14184.000000  14184.000000  14184.000000\n",
       "mean       0.299492     22.243091     47.188517\n",
       "std        0.458052     36.948180     36.681152\n",
       "min        0.000000      0.000000      0.000000\n",
       "25%        0.000000      1.000000     42.100000\n",
       "50%        0.000000      6.000000     47.800000\n",
       "75%        1.000000     25.000000     53.100000\n",
       "max        1.000000    378.000000    999.000000"
      ]
     },
     "execution_count": 36,
     "metadata": {},
     "output_type": "execute_result"
    }
   ],
   "source": [
    "df_success.describe()"
   ]
  },
  {
   "cell_type": "code",
   "execution_count": 21,
   "metadata": {},
   "outputs": [],
   "source": [
    "#df_success.plot.scatter(x='2P%',y='Success',s=30);"
   ]
  },
  {
   "cell_type": "code",
   "execution_count": 22,
   "metadata": {},
   "outputs": [
    {
     "data": {
      "text/plain": [
       "LogisticRegression()"
      ]
     },
     "execution_count": 22,
     "metadata": {},
     "output_type": "execute_result"
    }
   ],
   "source": [
    "lrm=linear_model.LogisticRegression()\n",
    "lrm.fit(df_success[[\"2P%\"]],df_success[\"Success\"])\n",
    "\n"
   ]
  },
  {
   "cell_type": "code",
   "execution_count": 23,
   "metadata": {},
   "outputs": [
    {
     "data": {
      "image/png": "[encoded data removed]",
      "text/plain": [
       "<Figure size 720x432 with 1 Axes>"
      ]
     },
     "metadata": {
      "needs_background": "light"
     },
     "output_type": "display_data"
    }
   ],
   "source": [
    "df_success.plot.scatter(x='2P%',y='Success',s=30)\n",
    "\n",
    "x = np.linspace(df_success['2P%'].min(),df_success['Success'].max(),5000)\n",
    "\n",
    "\n",
    "y_pred_p=lrm.predict_proba(np.reshape(x, (-1, 1))) # we need to reshape x to get it to a 2 dimensional array\n",
    "\n",
    "\n",
    "y_pred_p1=[y[1] for y in y_pred_p]\n",
    "\n",
    "\n",
    "plt.plot(x,y_pred_p1,color='Black')\n",
    "\n",
    "plt.plot(x,[0.5]*len(x),color=\"red\")\n",
    "plt.show()"
   ]
  },
  {
   "cell_type": "code",
   "execution_count": 24,
   "metadata": {},
   "outputs": [],
   "source": [
    "import seaborn as sns\n",
    "from collections import Counter\n",
    "from sklearn.decomposition import PCA"
   ]
  },
  {
   "cell_type": "code",
   "execution_count": 25,
   "metadata": {},
   "outputs": [
    {
     "data": {
      "text/plain": [
       "<AxesSubplot:ylabel='None'>"
      ]
     },
     "execution_count": 25,
     "metadata": {},
     "output_type": "execute_result"
    },
    {
     "data": {
      "image/png": "[encoded data removed]",
      "text/plain": [
       "<Figure size 1440x360 with 2 Axes>"
      ]
     },
     "metadata": {
      "needs_background": "light"
     },
     "output_type": "display_data"
    }
   ],
   "source": [
    "fig, axes = plt.subplots(1,2, figsize=(20,5))\n",
    "sr_3P = pd.Series([count_succ,count_unsucc], index=['GOOD 3P', 'Others'])\n",
    "sr_3P.plot(kind='pie', ax=axes[1])"
   ]
  },
  {
   "cell_type": "code",
   "execution_count": 26,
   "metadata": {},
   "outputs": [
    {
     "data": {
      "text/plain": [
       "<AxesSubplot:ylabel='None'>"
      ]
     },
     "execution_count": 26,
     "metadata": {},
     "output_type": "execute_result"
    },
    {
     "data": {
      "image/png": "[encoded data removed]",
      "text/plain": [
       "<Figure size 1440x360 with 2 Axes>"
      ]
     },
     "metadata": {
      "needs_background": "light"
     },
     "output_type": "display_data"
    }
   ],
   "source": [
    "count_3p_2p=0\n",
    "count_un_3p_2p=0\n",
    "for i in range(0,len(p3p_s)):\n",
    "    if(p3p_s[i]!=999):\n",
    "        if((float)(p3p_s[i])>36)and((float)(p2p_s[i])>45):\n",
    "            count_3p_2p=count_3p_2p+1\n",
    "        else:\n",
    "            count_un_3p_2p=count_un_3p_2p+1\n",
    "            \n",
    "fig, axes = plt.subplots(1,2, figsize=(20,5))\n",
    "sr_3P_2P = pd.Series([count_3p_2p,count_un_3p_2p], index=['GOOD 3P&2P', 'Others'])\n",
    "sr_3P_2P.plot(kind='pie', ax=axes[1])"
   ]
  },
  {
   "cell_type": "code",
   "execution_count": 27,
   "metadata": {},
   "outputs": [
    {
     "data": {
      "text/plain": [
       "<AxesSubplot:ylabel='None'>"
      ]
     },
     "execution_count": 27,
     "metadata": {},
     "output_type": "execute_result"
    },
    {
     "data": {
      "image/png": "[encoded data removed]",
      "text/plain": [
       "<Figure size 1440x360 with 2 Axes>"
      ]
     },
     "metadata": {
      "needs_background": "light"
     },
     "output_type": "display_data"
    }
   ],
   "source": [
    "count_3p_orb=0\n",
    "count_un_3p_orb=0\n",
    "for i in range(0,len(p3p_s)):\n",
    "    if(p3p_s[i]!=999):\n",
    "        if((float)(p3p_s[i])>36)and((float)(orb_s[i])>100):\n",
    "            count_3p_orb=count_3p_orb+1\n",
    "        else:\n",
    "            count_un_3p_orb=count_un_3p_orb+1\n",
    "            \n",
    "fig, axes = plt.subplots(1,2, figsize=(20,5))\n",
    "sr_3P_2P = pd.Series([count_3p_orb,count_un_3p_orb], index=['GOOD 3P&ORB', 'Others'])\n",
    "sr_3P_2P.plot(kind='pie', ax=axes[1])"
   ]
  },
  {
   "cell_type": "code",
   "execution_count": 28,
   "metadata": {},
   "outputs": [
    {
     "data": {
      "text/plain": [
       "<AxesSubplot:ylabel='None'>"
      ]
     },
     "execution_count": 28,
     "metadata": {},
     "output_type": "execute_result"
    },
    {
     "data": {
      "image/png": "[encoded data removed]",
      "text/plain": [
       "<Figure size 1440x360 with 2 Axes>"
      ]
     },
     "metadata": {
      "needs_background": "light"
     },
     "output_type": "display_data"
    }
   ],
   "source": [
    "count_3p_drb=0\n",
    "count_un_3p_drb=0\n",
    "for i in range(0,len(p3p_s)):\n",
    "    if(p3p_s[i]!=999):\n",
    "        if((float)(p3p_s[i])>36)and((float)(drb_s[i])>100):\n",
    "            count_3p_drb=count_3p_drb+1\n",
    "        else:\n",
    "            count_un_3p_drb=count_un_3p_drb+1\n",
    "            \n",
    "fig, axes = plt.subplots(1,2, figsize=(20,5))\n",
    "sr_3P_2P = pd.Series([count_3p_drb,count_un_3p_drb], index=['GOOD 3P&DRB', 'Others'])\n",
    "sr_3P_2P.plot(kind='pie', ax=axes[1])"
   ]
  },
  {
   "cell_type": "code",
   "execution_count": null,
   "metadata": {},
   "outputs": [],
   "source": []
  },
  {
   "cell_type": "code",
   "execution_count": null,
   "metadata": {},
   "outputs": [],
   "source": []
  }
 ],
 "metadata": {
  "kernelspec": {
   "display_name": "Python 3",
   "language": "python",
   "name": "python3"
  },
  "language_info": {
   "codemirror_mode": {
    "name": "ipython",
    "version": 3
   },
   "file_extension": ".py",
   "mimetype": "text/x-python",
   "name": "python",
   "nbconvert_exporter": "python",
   "pygments_lexer": "ipython3",
   "version": "3.8.5"
  }
 },
 "nbformat": 4,
 "nbformat_minor": 4
}
